{
  "nbformat": 4,
  "nbformat_minor": 0,
  "metadata": {
    "colab": {
      "name": "Exámen_Final_Fundamentos_de_Python_Eddy_Alarcon_Rojas.ipynb",
      "provenance": [],
      "include_colab_link": true
    },
    "kernelspec": {
      "name": "python3",
      "display_name": "Python 3"
    }
  },
  "cells": [
    {
      "cell_type": "markdown",
      "metadata": {
        "id": "view-in-github",
        "colab_type": "text"
      },
      "source": [
        "<a href=\"https://colab.research.google.com/github/EddyAlarconR/curso_python_dmc/blob/main/Ex%C3%A1men_Final_Fundamentos_de_Python_Eddy_Alarcon_Rojas.ipynb\" target=\"_parent\"><img src=\"https://colab.research.google.com/assets/colab-badge.svg\" alt=\"Open In Colab\"/></a>"
      ]
    },
    {
      "cell_type": "code",
      "metadata": {
        "id": "njxRZIe2dvhU",
        "colab": {
          "base_uri": "https://localhost:8080/"
        },
        "outputId": "9d7967da-31c2-414a-de21-52ec17b8b17f"
      },
      "source": [
        "#Realizar un print con tu nombre completo\n",
        "print('Eddy Josué Alarcón Rojas')"
      ],
      "execution_count": null,
      "outputs": [
        {
          "output_type": "stream",
          "text": [
            "Eddy Josué Alarcón Rojas\n"
          ],
          "name": "stdout"
        }
      ]
    },
    {
      "cell_type": "markdown",
      "metadata": {
        "id": "8zvm6LxRaZ89"
      },
      "source": [
        "#Examen Final - Fundamentos de Python\n",
        "\n",
        "\n",
        "\n",
        "1.   Desarrollar el examen teórico https://www.questionpro.com/t/ARQPVZjyp0\n",
        "2.   Enviar los ejercicios de cada sesión.\n",
        "\n",
        "\n",
        "# **NOTA: Enviar la información hasta las 23:59 PM del 22/11/2020**\n",
        "Drive: https://drive.google.com/drive/folders/1Dny1t1c4qEy0MZ3_r9oOQjvL9TByoHVU?usp=sharing"
      ]
    },
    {
      "cell_type": "markdown",
      "metadata": {
        "id": "cs1R7XWJcN4l"
      },
      "source": [
        "### Laboratorio 01 \n",
        "\n",
        "* Busque un personaje publico de su preferencia en wikipedia\n",
        "* Haga un diccionario de la manera más simple.\n",
        "* Haga luego un diccionario usando donde se pueda otras estructuras (listas, tuplas, diccionarios)\n",
        "\n",
        "Referencia : https://github.com/juansalinasponce/course_python/blob/main/Sesion_02/Sesion02_FDP_Tipos_de_Datos.ipynb"
      ]
    },
    {
      "cell_type": "code",
      "metadata": {
        "id": "4D9n4EOUcfrj",
        "colab": {
          "base_uri": "https://localhost:8080/"
        },
        "outputId": "6a5b6e02-7fb8-44a5-c9f1-19308bf0e222"
      },
      "source": [
        "CristianoRonaldo={'nombre en español':\"Cristiano Ronaldo dos Santos Aveiro\",\n",
        "               'nacimiento':\"5 de febrero de 1985\",\n",
        "               'Residencia':\"Turín, Italia\",\n",
        "         'nacionalidad':\"Portuguesa\",\n",
        "         'lengua materna':\"Portuguez\",\n",
        "         'club':\"Juventus F.C.\",\n",
        "         'padres':\"María Dolores dos Santos, José Dinis Aveiro\",\n",
        "         'cónyugue':\"Georgina Rodríguez\",\n",
        "         'hijos':\"Cristiano Ronaldo Jr., Alana Martina dos Santos Aveiro, Eva Maria Dos Santos, Mateo Ronaldo\",\n",
        "         'ocupación':\"Futbolista profesional\",}\n",
        "CristianoRonaldo"
      ],
      "execution_count": null,
      "outputs": [
        {
          "output_type": "execute_result",
          "data": {
            "text/plain": [
              "{'Residencia': 'Turín, Italia',\n",
              " 'club': 'Juventus F.C.',\n",
              " 'cónyugue': 'Georgina Rodríguez',\n",
              " 'hijos': 'Cristiano Ronaldo Jr., Alana Martina dos Santos Aveiro, Eva Maria Dos Santos, Mateo Ronaldo',\n",
              " 'lengua materna': 'Portuguez',\n",
              " 'nacimiento': '5 de febrero de 1985',\n",
              " 'nacionalidad': 'Portuguesa',\n",
              " 'nombre en español': 'Cristiano Ronaldo dos Santos Aveiro',\n",
              " 'ocupación': 'Futbolista profesional',\n",
              " 'padres': 'María Dolores dos Santos, José Dinis Aveiro'}"
            ]
          },
          "metadata": {
            "tags": []
          },
          "execution_count": 2
        }
      ]
    },
    {
      "cell_type": "code",
      "metadata": {
        "id": "dqcGjAGVka2L"
      },
      "source": [
        "padres=[\"María Dolores dos Santos\", \"José Dinis Aveiro\"]\n",
        "hijos=[\"Cristiano Ronaldo Jr.\", \"Alana Martina dos Santos Aveiro\", \"Eva Maria Dos Santos\", \"Mateo Ronaldo\"]"
      ],
      "execution_count": null,
      "outputs": []
    },
    {
      "cell_type": "code",
      "metadata": {
        "colab": {
          "base_uri": "https://localhost:8080/"
        },
        "id": "X4SseULFk5cy",
        "outputId": "f40ecefb-50a1-411b-ce26-70e08b30803f"
      },
      "source": [
        "CristianoRonaldo={'nombre en español':\"Cristiano Ronaldo dos Santos Aveiro\",\n",
        "               'nacimiento':\"5 de febrero de 1985\",\n",
        "               'Residencia':\"Turín, Italia\",\n",
        "         'nacionalidad':\"Portuguesa\",\n",
        "         'lengua materna':\"Portuguez\",\n",
        "         'club':\"Juventus F.C.\",\n",
        "         'padres':padres,\n",
        "         'cónyugue':\"Georgina Rodríguez\",\n",
        "         'hijos':hijos,\n",
        "         'ocupación':\"Futbolista profesional\",}\n",
        "CristianoRonaldo"
      ],
      "execution_count": null,
      "outputs": [
        {
          "output_type": "execute_result",
          "data": {
            "text/plain": [
              "{'Residencia': 'Turín, Italia',\n",
              " 'club': 'Juventus F.C.',\n",
              " 'cónyugue': 'Georgina Rodríguez',\n",
              " 'hijos': ['Cristiano Ronaldo Jr.',\n",
              "  'Alana Martina dos Santos Aveiro',\n",
              "  'Eva Maria Dos Santos',\n",
              "  'Mateo Ronaldo'],\n",
              " 'lengua materna': 'Portuguez',\n",
              " 'nacimiento': '5 de febrero de 1985',\n",
              " 'nacionalidad': 'Portuguesa',\n",
              " 'nombre en español': 'Cristiano Ronaldo dos Santos Aveiro',\n",
              " 'ocupación': 'Futbolista profesional',\n",
              " 'padres': ['María Dolores dos Santos', 'José Dinis Aveiro']}"
            ]
          },
          "metadata": {
            "tags": []
          },
          "execution_count": 4
        }
      ]
    },
    {
      "cell_type": "code",
      "metadata": {
        "colab": {
          "base_uri": "https://localhost:8080/"
        },
        "id": "9vMXZiRdlRTT",
        "outputId": "4cd6e31c-b35e-44c3-dcb3-7b117fc2d8ab"
      },
      "source": [
        "type(CristianoRonaldo)"
      ],
      "execution_count": null,
      "outputs": [
        {
          "output_type": "execute_result",
          "data": {
            "text/plain": [
              "dict"
            ]
          },
          "metadata": {
            "tags": []
          },
          "execution_count": 5
        }
      ]
    },
    {
      "cell_type": "markdown",
      "metadata": {
        "id": "WFRDELOecjJu"
      },
      "source": [
        "### Laboratorio 02\n",
        "\n",
        "Escribir un programa que reciba el siguiente texto y muestre:\n",
        "* Cantidad de palabras distintas\n",
        "* Frecuencia de cada palabra encontrada\n",
        "\n",
        "`Un texto narrativo es aquel texto que cuenta una historia que se desarrolla en un período de tiempo y un lugar determinado. La narración hace referencia a la manera de contar la historia, en forma de secuencia o como una serie de acciones que realizan los personajes, y que permite al lector imaginarse la situación.`\n",
        "\n",
        "Referencia: https://github.com/juansalinasponce/course_python/blob/main/Sesion_04/Sesi%C3%B3n04_FDP_OG7_Fechas_String.ipynb"
      ]
    },
    {
      "cell_type": "code",
      "metadata": {
        "id": "NLb2BPeQ_4Pc"
      },
      "source": [
        "import pandas as pd\n",
        "import numpy as np\n",
        "import matplotlib.pyplot as plt"
      ],
      "execution_count": null,
      "outputs": []
    },
    {
      "cell_type": "code",
      "metadata": {
        "id": "TInRFIOBdpn6",
        "colab": {
          "base_uri": "https://localhost:8080/"
        },
        "outputId": "55c3888d-c286-4213-d9d2-4c1cec7a9411"
      },
      "source": [
        "#Desarrolla Aquí tu código\n",
        "texto = 'Párrafo'\n",
        "def palabras_texto (texto):\n",
        "  listaPalabras = texto.split()\n",
        "\n",
        "  frecuenciaPalab = []\n",
        "  for palabra in listaPalabras:\n",
        "    frecuenciaPalab.append(listaPalabras.count(palabra))\n",
        "  \n",
        "  datosPalab = {'Palabra': listaPalabras,\n",
        "        'Frecuencia': frecuenciaPalab}\n",
        "  dfp = pd.DataFrame (datosPalab)\n",
        "  dfpPalab = dfp[['Palabra']] \n",
        "\n",
        "  print(\"Cadena\\n\" + texto +\"\\n\")\n",
        "  print(\"Cantidad Palabras distintas:\\n\"+ str(dfpPalab.nunique())+ \"\\n\")\n",
        "  #print(\"Lista\\n\" + str(listaPalabras) + \"\\n\")\n",
        "  #print(\"Frecuencias\\n\" + str(frecuenciaPalab) + \"\\n\")\n",
        "  print(\"Frecuencias de cada palabra encontrada: \\n\" + str(list(zip(listaPalabras, frecuenciaPalab)))+\"\\n\")\n",
        "  \n",
        "textoejemplo = 'Un texto narrativo es aquel texto que cuenta una historia que se desarrolla en un período de tiempo y un lugar determinado. La narración hace referencia a la manera de contar la historia, en forma de secuencia o como una serie de acciones que realizan los personajes, y que permite al lector imaginarse la situación.'\n",
        "palabras_texto (textoejemplo)"
      ],
      "execution_count": null,
      "outputs": [
        {
          "output_type": "stream",
          "text": [
            "Cadena\n",
            "Un texto narrativo es aquel texto que cuenta una historia que se desarrolla en un período de tiempo y un lugar determinado. La narración hace referencia a la manera de contar la historia, en forma de secuencia o como una serie de acciones que realizan los personajes, y que permite al lector imaginarse la situación.\n",
            "\n",
            "Cantidad Palabras distintas:\n",
            "Palabra    42\n",
            "dtype: int64\n",
            "\n",
            "Frecuencias de cada palabra encontrada: \n",
            "[('Un', 1), ('texto', 2), ('narrativo', 1), ('es', 1), ('aquel', 1), ('texto', 2), ('que', 4), ('cuenta', 1), ('una', 2), ('historia', 1), ('que', 4), ('se', 1), ('desarrolla', 1), ('en', 2), ('un', 2), ('período', 1), ('de', 4), ('tiempo', 1), ('y', 2), ('un', 2), ('lugar', 1), ('determinado.', 1), ('La', 1), ('narración', 1), ('hace', 1), ('referencia', 1), ('a', 1), ('la', 3), ('manera', 1), ('de', 4), ('contar', 1), ('la', 3), ('historia,', 1), ('en', 2), ('forma', 1), ('de', 4), ('secuencia', 1), ('o', 1), ('como', 1), ('una', 2), ('serie', 1), ('de', 4), ('acciones', 1), ('que', 4), ('realizan', 1), ('los', 1), ('personajes,', 1), ('y', 2), ('que', 4), ('permite', 1), ('al', 1), ('lector', 1), ('imaginarse', 1), ('la', 3), ('situación.', 1)]\n",
            "\n"
          ],
          "name": "stdout"
        }
      ]
    },
    {
      "cell_type": "markdown",
      "metadata": {
        "id": "n44cHsbseD1G"
      },
      "source": [
        "### Laboratorio 03\n",
        "\n",
        "Considere el siguiente diccionario data y lista de index\n",
        "\n",
        "a. Crea un DataFrame a partir del diccionario y los índices.\n",
        "\n",
        "b. Selecciona las columnas animaly age.\n",
        "\n",
        "c. Indique cuantos tipos distintos de animales hay.\n",
        "\n",
        "d. Indique cuantos animales hay de cada tipo.\n",
        "\n",
        "e. Muestre un resumen estadístico de todas las variables.\n"
      ]
    },
    {
      "cell_type": "code",
      "metadata": {
        "id": "U6jy_xg2sHul"
      },
      "source": [
        "import pandas as pd\n",
        "import numpy as np\n",
        "import matplotlib.pyplot as plt"
      ],
      "execution_count": null,
      "outputs": []
    },
    {
      "cell_type": "code",
      "metadata": {
        "id": "oKJXKf47ebZv"
      },
      "source": [
        "#Desarrolle su código\n",
        "data = {'animal': ['cat', 'cat', 'snake', 'dog', 'dog', 'cat', 'snake', 'cat', 'dog', 'dog'],\n",
        "        'age': [2.5, 3, 0.5, np.nan, 5, 2, 4.5, np.nan, 7, 3],\n",
        "        'visits': [1, 3, 2, 3, 2, 3, 1, 1, 2, 1],\n",
        "        'priority': ['yes', 'yes', 'no', 'yes', 'no', 'no', 'no', 'yes', 'no', 'no']}\n",
        "\n",
        "labels = ['a', 'b', 'c', 'd', 'e', 'f', 'g', 'h', 'i', 'j']"
      ],
      "execution_count": null,
      "outputs": []
    },
    {
      "cell_type": "code",
      "metadata": {
        "colab": {
          "base_uri": "https://localhost:8080/",
          "height": 528
        },
        "id": "c9d31UPQsfuC",
        "outputId": "98ab4dea-6adf-44fc-df70-7cf744cebe84"
      },
      "source": [
        "#Creando DataFrame\n",
        "df = pd.DataFrame (data,labels)\n",
        "print(df)\n",
        "\n",
        "#Selección columnas animal y age\n",
        "df[['animal','age']]"
      ],
      "execution_count": null,
      "outputs": [
        {
          "output_type": "stream",
          "text": [
            "  animal  age  visits priority\n",
            "a    cat  2.5       1      yes\n",
            "b    cat  3.0       3      yes\n",
            "c  snake  0.5       2       no\n",
            "d    dog  NaN       3      yes\n",
            "e    dog  5.0       2       no\n",
            "f    cat  2.0       3       no\n",
            "g  snake  4.5       1       no\n",
            "h    cat  NaN       1      yes\n",
            "i    dog  7.0       2       no\n",
            "j    dog  3.0       1       no\n"
          ],
          "name": "stdout"
        },
        {
          "output_type": "execute_result",
          "data": {
            "text/html": [
              "<div>\n",
              "<style scoped>\n",
              "    .dataframe tbody tr th:only-of-type {\n",
              "        vertical-align: middle;\n",
              "    }\n",
              "\n",
              "    .dataframe tbody tr th {\n",
              "        vertical-align: top;\n",
              "    }\n",
              "\n",
              "    .dataframe thead th {\n",
              "        text-align: right;\n",
              "    }\n",
              "</style>\n",
              "<table border=\"1\" class=\"dataframe\">\n",
              "  <thead>\n",
              "    <tr style=\"text-align: right;\">\n",
              "      <th></th>\n",
              "      <th>animal</th>\n",
              "      <th>age</th>\n",
              "    </tr>\n",
              "  </thead>\n",
              "  <tbody>\n",
              "    <tr>\n",
              "      <th>a</th>\n",
              "      <td>cat</td>\n",
              "      <td>2.5</td>\n",
              "    </tr>\n",
              "    <tr>\n",
              "      <th>b</th>\n",
              "      <td>cat</td>\n",
              "      <td>3.0</td>\n",
              "    </tr>\n",
              "    <tr>\n",
              "      <th>c</th>\n",
              "      <td>snake</td>\n",
              "      <td>0.5</td>\n",
              "    </tr>\n",
              "    <tr>\n",
              "      <th>d</th>\n",
              "      <td>dog</td>\n",
              "      <td>NaN</td>\n",
              "    </tr>\n",
              "    <tr>\n",
              "      <th>e</th>\n",
              "      <td>dog</td>\n",
              "      <td>5.0</td>\n",
              "    </tr>\n",
              "    <tr>\n",
              "      <th>f</th>\n",
              "      <td>cat</td>\n",
              "      <td>2.0</td>\n",
              "    </tr>\n",
              "    <tr>\n",
              "      <th>g</th>\n",
              "      <td>snake</td>\n",
              "      <td>4.5</td>\n",
              "    </tr>\n",
              "    <tr>\n",
              "      <th>h</th>\n",
              "      <td>cat</td>\n",
              "      <td>NaN</td>\n",
              "    </tr>\n",
              "    <tr>\n",
              "      <th>i</th>\n",
              "      <td>dog</td>\n",
              "      <td>7.0</td>\n",
              "    </tr>\n",
              "    <tr>\n",
              "      <th>j</th>\n",
              "      <td>dog</td>\n",
              "      <td>3.0</td>\n",
              "    </tr>\n",
              "  </tbody>\n",
              "</table>\n",
              "</div>"
            ],
            "text/plain": [
              "  animal  age\n",
              "a    cat  2.5\n",
              "b    cat  3.0\n",
              "c  snake  0.5\n",
              "d    dog  NaN\n",
              "e    dog  5.0\n",
              "f    cat  2.0\n",
              "g  snake  4.5\n",
              "h    cat  NaN\n",
              "i    dog  7.0\n",
              "j    dog  3.0"
            ]
          },
          "metadata": {
            "tags": []
          },
          "execution_count": 10
        }
      ]
    },
    {
      "cell_type": "code",
      "metadata": {
        "colab": {
          "base_uri": "https://localhost:8080/"
        },
        "id": "630P0Dkcvtj0",
        "outputId": "82f4603b-3ae1-44e2-afcb-412af366ff3b"
      },
      "source": [
        "#Cuantos tipos de animales hay\n",
        "tipos_animales=df['animal']\n",
        "\n",
        "tipos_animales.nunique()\n",
        "\n",
        "cant_animales = str(tipos_animales.nunique())\n",
        "\n",
        "print('Hay '+ cant_animales + ' tipos de animales')"
      ],
      "execution_count": null,
      "outputs": [
        {
          "output_type": "stream",
          "text": [
            "Hay 3 tipos de animales\n"
          ],
          "name": "stdout"
        }
      ]
    },
    {
      "cell_type": "code",
      "metadata": {
        "colab": {
          "base_uri": "https://localhost:8080/"
        },
        "id": "EeEtDto-xFNb",
        "outputId": "c49052d6-6338-4124-d23f-b01d23d701c2"
      },
      "source": [
        "#Cuantos animales hay de cada tipo\n",
        "tipos_animales=df['animal']\n",
        "tipos_animales.value_counts()\n",
        "\n",
        "animales= str (tipos_animales.value_counts())\n",
        "\n",
        "print ('Hay: \\n' + animales)"
      ],
      "execution_count": null,
      "outputs": [
        {
          "output_type": "stream",
          "text": [
            "Hay: \n",
            "cat      4\n",
            "dog      4\n",
            "snake    2\n",
            "Name: animal, dtype: int64\n"
          ],
          "name": "stdout"
        }
      ]
    },
    {
      "cell_type": "code",
      "metadata": {
        "colab": {
          "base_uri": "https://localhost:8080/",
          "height": 373
        },
        "id": "UcnZpyNAzPPS",
        "outputId": "64ee55cd-a277-46ef-a416-dd550adb4f86"
      },
      "source": [
        "#Resumen estadístico de variables\n",
        "df.describe(include='all')"
      ],
      "execution_count": null,
      "outputs": [
        {
          "output_type": "execute_result",
          "data": {
            "text/html": [
              "<div>\n",
              "<style scoped>\n",
              "    .dataframe tbody tr th:only-of-type {\n",
              "        vertical-align: middle;\n",
              "    }\n",
              "\n",
              "    .dataframe tbody tr th {\n",
              "        vertical-align: top;\n",
              "    }\n",
              "\n",
              "    .dataframe thead th {\n",
              "        text-align: right;\n",
              "    }\n",
              "</style>\n",
              "<table border=\"1\" class=\"dataframe\">\n",
              "  <thead>\n",
              "    <tr style=\"text-align: right;\">\n",
              "      <th></th>\n",
              "      <th>animal</th>\n",
              "      <th>age</th>\n",
              "      <th>visits</th>\n",
              "      <th>priority</th>\n",
              "    </tr>\n",
              "  </thead>\n",
              "  <tbody>\n",
              "    <tr>\n",
              "      <th>count</th>\n",
              "      <td>10</td>\n",
              "      <td>8.000000</td>\n",
              "      <td>10.000000</td>\n",
              "      <td>10</td>\n",
              "    </tr>\n",
              "    <tr>\n",
              "      <th>unique</th>\n",
              "      <td>3</td>\n",
              "      <td>NaN</td>\n",
              "      <td>NaN</td>\n",
              "      <td>2</td>\n",
              "    </tr>\n",
              "    <tr>\n",
              "      <th>top</th>\n",
              "      <td>cat</td>\n",
              "      <td>NaN</td>\n",
              "      <td>NaN</td>\n",
              "      <td>no</td>\n",
              "    </tr>\n",
              "    <tr>\n",
              "      <th>freq</th>\n",
              "      <td>4</td>\n",
              "      <td>NaN</td>\n",
              "      <td>NaN</td>\n",
              "      <td>6</td>\n",
              "    </tr>\n",
              "    <tr>\n",
              "      <th>mean</th>\n",
              "      <td>NaN</td>\n",
              "      <td>3.437500</td>\n",
              "      <td>1.900000</td>\n",
              "      <td>NaN</td>\n",
              "    </tr>\n",
              "    <tr>\n",
              "      <th>std</th>\n",
              "      <td>NaN</td>\n",
              "      <td>2.007797</td>\n",
              "      <td>0.875595</td>\n",
              "      <td>NaN</td>\n",
              "    </tr>\n",
              "    <tr>\n",
              "      <th>min</th>\n",
              "      <td>NaN</td>\n",
              "      <td>0.500000</td>\n",
              "      <td>1.000000</td>\n",
              "      <td>NaN</td>\n",
              "    </tr>\n",
              "    <tr>\n",
              "      <th>25%</th>\n",
              "      <td>NaN</td>\n",
              "      <td>2.375000</td>\n",
              "      <td>1.000000</td>\n",
              "      <td>NaN</td>\n",
              "    </tr>\n",
              "    <tr>\n",
              "      <th>50%</th>\n",
              "      <td>NaN</td>\n",
              "      <td>3.000000</td>\n",
              "      <td>2.000000</td>\n",
              "      <td>NaN</td>\n",
              "    </tr>\n",
              "    <tr>\n",
              "      <th>75%</th>\n",
              "      <td>NaN</td>\n",
              "      <td>4.625000</td>\n",
              "      <td>2.750000</td>\n",
              "      <td>NaN</td>\n",
              "    </tr>\n",
              "    <tr>\n",
              "      <th>max</th>\n",
              "      <td>NaN</td>\n",
              "      <td>7.000000</td>\n",
              "      <td>3.000000</td>\n",
              "      <td>NaN</td>\n",
              "    </tr>\n",
              "  </tbody>\n",
              "</table>\n",
              "</div>"
            ],
            "text/plain": [
              "       animal       age     visits priority\n",
              "count      10  8.000000  10.000000       10\n",
              "unique      3       NaN        NaN        2\n",
              "top       cat       NaN        NaN       no\n",
              "freq        4       NaN        NaN        6\n",
              "mean      NaN  3.437500   1.900000      NaN\n",
              "std       NaN  2.007797   0.875595      NaN\n",
              "min       NaN  0.500000   1.000000      NaN\n",
              "25%       NaN  2.375000   1.000000      NaN\n",
              "50%       NaN  3.000000   2.000000      NaN\n",
              "75%       NaN  4.625000   2.750000      NaN\n",
              "max       NaN  7.000000   3.000000      NaN"
            ]
          },
          "metadata": {
            "tags": []
          },
          "execution_count": 13
        }
      ]
    }
  ]
}