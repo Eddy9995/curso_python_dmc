{
  "nbformat": 4,
  "nbformat_minor": 0,
  "metadata": {
    "colab": {
      "name": "Sesion4y5-Python.ipynb",
      "provenance": [],
      "collapsed_sections": [],
      "authorship_tag": "ABX9TyPz1Y/5lEwaFAouFgus0XRG",
      "include_colab_link": true
    },
    "kernelspec": {
      "name": "python3",
      "display_name": "Python 3"
    }
  },
  "cells": [
    {
      "cell_type": "markdown",
      "metadata": {
        "id": "view-in-github",
        "colab_type": "text"
      },
      "source": [
        "<a href=\"https://colab.research.google.com/github/EddyAlarconR/curso_python_dmc/blob/main/Sesion4y5_Python.ipynb\" target=\"_parent\"><img src=\"https://colab.research.google.com/assets/colab-badge.svg\" alt=\"Open In Colab\"/></a>"
      ]
    },
    {
      "cell_type": "code",
      "metadata": {
        "id": "TkOARz6GL60_"
      },
      "source": [
        "import datetime as dt"
      ],
      "execution_count": 1,
      "outputs": []
    },
    {
      "cell_type": "code",
      "metadata": {
        "colab": {
          "base_uri": "https://localhost:8080/"
        },
        "id": "ZPo2poplOJBt",
        "outputId": "05c9a6d7-6577-4b7c-aee5-c96da8d33524"
      },
      "source": [
        "hora = dt.time(1,second = 10)\n",
        "print(hora)"
      ],
      "execution_count": 5,
      "outputs": [
        {
          "output_type": "stream",
          "text": [
            "01:00:10\n"
          ],
          "name": "stdout"
        }
      ]
    },
    {
      "cell_type": "code",
      "metadata": {
        "colab": {
          "base_uri": "https://localhost:8080/"
        },
        "id": "VRLcZDJzNzRH",
        "outputId": "1119dedb-e8fa-4aca-9144-5e9af840ce83"
      },
      "source": [
        "print(dt.time(1), \"1 Hora\")\n",
        "\n",
        "print(dt.time(2, 30), \"2 Horas y 30 minutos\")\n",
        "\n",
        "print(dt.time(3, 45, 30), \"3 Horas, 45 minutos y 30 segundos\")"
      ],
      "execution_count": 6,
      "outputs": [
        {
          "output_type": "stream",
          "text": [
            "01:00:00 1 Hora\n",
            "02:30:00 2 Horas y 30 minutos\n",
            "03:45:30 3 Horas, 45 minutos y 30 segundos\n"
          ],
          "name": "stdout"
        }
      ]
    },
    {
      "cell_type": "code",
      "metadata": {
        "colab": {
          "base_uri": "https://localhost:8080/"
        },
        "id": "qohhQ7MoQOzw",
        "outputId": "0f6b88cc-9f55-455e-d69a-c154ac33c215"
      },
      "source": [
        "now = dt.datetime.now()\n",
        "print(now)"
      ],
      "execution_count": 7,
      "outputs": [
        {
          "output_type": "stream",
          "text": [
            "2020-11-21 19:21:17.494364\n"
          ],
          "name": "stdout"
        }
      ]
    },
    {
      "cell_type": "code",
      "metadata": {
        "colab": {
          "base_uri": "https://localhost:8080/"
        },
        "id": "XPYocA6zQ7uC",
        "outputId": "4b6c4633-5c41-43c9-a24a-bec0f395ea41"
      },
      "source": [
        "print(\"Fecha\\n\")\n",
        "print(\"El año actual es:\", now.year)\n",
        "print(\"El mes actual es:\", now.month)\n",
        "print(\"El día actual es:\", now.day)\n",
        "\n",
        "print(\"\\nTiempo\\n\")\n",
        "print(\"La hora actual es:   \", now.hour)\n",
        "print(\"El minuto actual es: \", now.minute)\n",
        "print(\"El segundo actual es:\", now.second)"
      ],
      "execution_count": 8,
      "outputs": [
        {
          "output_type": "stream",
          "text": [
            "Fecha\n",
            "\n",
            "El año actual es: 2020\n",
            "El mes actual es: 11\n",
            "El día actual es: 21\n",
            "\n",
            "Tiempo\n",
            "\n",
            "La hora actual es:    19\n",
            "El minuto actual es:  21\n",
            "El segundo actual es: 17\n"
          ],
          "name": "stdout"
        }
      ]
    },
    {
      "cell_type": "code",
      "metadata": {
        "colab": {
          "base_uri": "https://localhost:8080/"
        },
        "id": "6nP1Z87FRY_f",
        "outputId": "336fa6ba-1753-4aa5-fd94-1d3bc763d0df"
      },
      "source": [
        "navidad_date = dt.datetime(2020, 12, 25)\n",
        "print(navidad_date)"
      ],
      "execution_count": 9,
      "outputs": [
        {
          "output_type": "stream",
          "text": [
            "2020-12-25 00:00:00\n"
          ],
          "name": "stdout"
        }
      ]
    },
    {
      "cell_type": "code",
      "metadata": {
        "colab": {
          "base_uri": "https://localhost:8080/"
        },
        "id": "FPjvoNnlReiF",
        "outputId": "09c619c4-fdfd-4a91-c0ce-6851442350b1"
      },
      "source": [
        "diff = navidad_date - now\n",
        "print(diff)"
      ],
      "execution_count": 14,
      "outputs": [
        {
          "output_type": "stream",
          "text": [
            "33 days, 4:38:42.505636\n"
          ],
          "name": "stdout"
        }
      ]
    },
    {
      "cell_type": "code",
      "metadata": {
        "colab": {
          "base_uri": "https://localhost:8080/"
        },
        "id": "UlTwIq8NRokg",
        "outputId": "e1ec1fbe-80ca-43f0-ecd7-bca9b3049679"
      },
      "source": [
        "nacimiento = dt.datetime(1995,9,9)\n",
        "print(nacimiento)\n",
        "now = dt.datetime.now()\n",
        "print(now)\n",
        "diff = now.year - nacimiento.year\n",
        "print(diff)"
      ],
      "execution_count": 23,
      "outputs": [
        {
          "output_type": "stream",
          "text": [
            "1995-09-09 00:00:00\n",
            "2020-11-21 19:36:44.535524\n",
            "25\n"
          ],
          "name": "stdout"
        }
      ]
    },
    {
      "cell_type": "code",
      "metadata": {
        "colab": {
          "base_uri": "https://localhost:8080/"
        },
        "id": "IND04ArpT2r4",
        "outputId": "fb1f41fc-6c4e-461d-9bce-6cbee658cdcf"
      },
      "source": [
        "str_date = \"18-07-1994\"\n",
        "str_date = dt.datetime.strptime(str_date,\"%d-%m-%Y\")\n",
        "print(str_date)"
      ],
      "execution_count": 31,
      "outputs": [
        {
          "output_type": "stream",
          "text": [
            "1994-07-18 00:00:00\n"
          ],
          "name": "stdout"
        }
      ]
    },
    {
      "cell_type": "code",
      "metadata": {
        "colab": {
          "base_uri": "https://localhost:8080/"
        },
        "id": "fb4uGXzCV2Xm",
        "outputId": "3e101353-99b2-4575-8929-e6485961cd93"
      },
      "source": [
        "str_date = \"18/07/1994\"\n",
        "str_date = dt.datetime.strptime(str_date,\"%d/%m/%Y\")\n",
        "print(str_date)"
      ],
      "execution_count": 32,
      "outputs": [
        {
          "output_type": "stream",
          "text": [
            "1994-07-18 00:00:00\n"
          ],
          "name": "stdout"
        }
      ]
    },
    {
      "cell_type": "code",
      "metadata": {
        "colab": {
          "base_uri": "https://localhost:8080/"
        },
        "id": "Ssr_83WoV7as",
        "outputId": "c43d998c-a3a6-45e3-e965-7974fce927e2"
      },
      "source": [
        "date_str = dt.datetime.strftime(str_date, \"%Y-%m-%d %H:%M:%S\")\n",
        "print(date_str)"
      ],
      "execution_count": 33,
      "outputs": [
        {
          "output_type": "stream",
          "text": [
            "1994-07-18 00:00:00\n"
          ],
          "name": "stdout"
        }
      ]
    },
    {
      "cell_type": "code",
      "metadata": {
        "colab": {
          "base_uri": "https://localhost:8080/",
          "height": 35
        },
        "id": "AzCxsDKbXFUo",
        "outputId": "ec942c19-52c5-44cf-fce3-87d1b3c7a134"
      },
      "source": [
        "#Ascii to Char\n",
        "\n",
        "chr(123)"
      ],
      "execution_count": 39,
      "outputs": [
        {
          "output_type": "execute_result",
          "data": {
            "application/vnd.google.colaboratory.intrinsic+json": {
              "type": "string"
            },
            "text/plain": [
              "'{'"
            ]
          },
          "metadata": {
            "tags": []
          },
          "execution_count": 39
        }
      ]
    },
    {
      "cell_type": "code",
      "metadata": {
        "colab": {
          "base_uri": "https://localhost:8080/"
        },
        "id": "2tFilQaBXLL2",
        "outputId": "ccf639c9-18ca-4a7a-bc19-5dae4ca93db8"
      },
      "source": [
        "ord('@')"
      ],
      "execution_count": 35,
      "outputs": [
        {
          "output_type": "execute_result",
          "data": {
            "text/plain": [
              "64"
            ]
          },
          "metadata": {
            "tags": []
          },
          "execution_count": 35
        }
      ]
    },
    {
      "cell_type": "code",
      "metadata": {
        "colab": {
          "base_uri": "https://localhost:8080/"
        },
        "id": "mdMnBt9ZYlEU",
        "outputId": "04152711-bc40-4dd3-c7da-647be8962087"
      },
      "source": [
        "#Creación de un string\n",
        "\n",
        "s1 = 'fundamentos de programación en Python.'\n",
        "print(s1)"
      ],
      "execution_count": 40,
      "outputs": [
        {
          "output_type": "stream",
          "text": [
            "fundamentos de programación en Python.\n"
          ],
          "name": "stdout"
        }
      ]
    },
    {
      "cell_type": "code",
      "metadata": {
        "colab": {
          "base_uri": "https://localhost:8080/"
        },
        "id": "1NpI8y8qYlhJ",
        "outputId": "01783c69-caf5-4e0c-abcf-37cf8af07eed"
      },
      "source": [
        "#Pertenencia\n",
        "\n",
        "'de' in s1"
      ],
      "execution_count": 41,
      "outputs": [
        {
          "output_type": "execute_result",
          "data": {
            "text/plain": [
              "True"
            ]
          },
          "metadata": {
            "tags": []
          },
          "execution_count": 41
        }
      ]
    },
    {
      "cell_type": "code",
      "metadata": {
        "colab": {
          "base_uri": "https://localhost:8080/"
        },
        "id": "xK9bYj9pYljd",
        "outputId": "7afd82de-a3c1-4704-ea2d-51e1a0c570f2"
      },
      "source": [
        "#Acceso (Indexing - Slicing)\n",
        "s1 = 'fundamentos de programación en Python.'\n",
        "print(s1[0])\n",
        "print(s1[-1])\n",
        "print(s1[4:8])\n",
        "print(s1[::-1])\n",
        "\n",
        "str_date = \"09-12-1994\"\n",
        "\n",
        "mes = str_date\n",
        "dia = str_date[0:3]\n",
        "mes = str_date[3:6]"
      ],
      "execution_count": 44,
      "outputs": [
        {
          "output_type": "stream",
          "text": [
            "f\n",
            ".\n",
            "amen\n",
            ".nohtyP ne nóicamargorp ed sotnemadnuf\n"
          ],
          "name": "stdout"
        }
      ]
    },
    {
      "cell_type": "code",
      "metadata": {
        "colab": {
          "base_uri": "https://localhost:8080/"
        },
        "id": "DoSX6vgfYlmN",
        "outputId": "2c39bd63-2598-402d-9270-edc8088963a6"
      },
      "source": [
        "str_date = \"09-12-1994\"\n",
        "\n",
        "mes = str_date\n",
        "mes = str_date[0:2]\n",
        "dia = str_date[3:5]\n",
        "año = str_date[6:13]\n",
        "\n",
        "print(dia)\n",
        "print(mes)\n",
        "print(año)"
      ],
      "execution_count": 53,
      "outputs": [
        {
          "output_type": "stream",
          "text": [
            "12\n",
            "09\n",
            "1994\n"
          ],
          "name": "stdout"
        }
      ]
    },
    {
      "cell_type": "code",
      "metadata": {
        "colab": {
          "base_uri": "https://localhost:8080/"
        },
        "id": "G2W9j-WzYlpv",
        "outputId": "20d816a9-db83-4d2f-81be-a540e73b3273"
      },
      "source": [
        "print('Primera línea\\nSegunda línea')"
      ],
      "execution_count": 54,
      "outputs": [
        {
          "output_type": "stream",
          "text": [
            "Primera línea\n",
            "Segunda línea\n"
          ],
          "name": "stdout"
        }
      ]
    },
    {
      "cell_type": "code",
      "metadata": {
        "colab": {
          "base_uri": "https://localhost:8080/"
        },
        "id": "-uhQkLaBYlr9",
        "outputId": "5a1bba2d-83c0-42c4-e59c-f75b7b3f9701"
      },
      "source": [
        "\n",
        "#Insertar un tabulador\n",
        "print('Primera línea\\tSegunda línea')"
      ],
      "execution_count": 55,
      "outputs": [
        {
          "output_type": "stream",
          "text": [
            "Primera línea\tSegunda línea\n"
          ],
          "name": "stdout"
        }
      ]
    },
    {
      "cell_type": "code",
      "metadata": {
        "colab": {
          "base_uri": "https://localhost:8080/"
        },
        "id": "djJytoX-fFR3",
        "outputId": "aaaf66e8-8928-42a7-df49-69972ab38272"
      },
      "source": [
        "#Funciones de desplazamiento\n",
        "\n",
        "print('String centrado:')\n",
        "print(s1.center(50))\n",
        "print(s1.center(50, '_'))\n",
        "\n",
        "print('\\n\\nAlineado a la izquierda:')\n",
        "print(s1.ljust(50))\n",
        "print(s1.ljust(50, '<'))\n",
        "\n",
        "print('\\n\\nAlineado a la derecha:')\n",
        "print(s1.rjust(50))\n",
        "print(s1.rjust(50, '>'))\n",
        "\n",
        "print('\\n\\nCompletar con 0')\n",
        "print('-123.45'.zfill(4))\n",
        "print('-123.45'.zfill(12))"
      ],
      "execution_count": 56,
      "outputs": [
        {
          "output_type": "stream",
          "text": [
            "String centrado:\n",
            "      fundamentos de programación en Python.      \n",
            "______fundamentos de programación en Python.______\n",
            "\n",
            "\n",
            "Alineado a la izquierda:\n",
            "fundamentos de programación en Python.            \n",
            "fundamentos de programación en Python.<<<<<<<<<<<<\n",
            "\n",
            "\n",
            "Alineado a la derecha:\n",
            "            fundamentos de programación en Python.\n",
            ">>>>>>>>>>>>fundamentos de programación en Python.\n",
            "\n",
            "\n",
            "Completar con 0\n",
            "-123.45\n",
            "-00000123.45\n"
          ],
          "name": "stdout"
        }
      ]
    },
    {
      "cell_type": "code",
      "metadata": {
        "colab": {
          "base_uri": "https://localhost:8080/"
        },
        "id": "4IfApajAfFgt",
        "outputId": "605569ce-6db7-413f-8b52-ae40ff5c9463"
      },
      "source": [
        "#Funciones de texto\n",
        "\n",
        "s1 = 'el motivo de mi RECLAMO es la demora en la entrega del producto que compré ONLINE, pésimo servicio.'\n",
        "\n",
        "print('Minúsculas:\\n', s1.lower())\n",
        "print('\\nMayúsculas:\\n', s1.upper())\n",
        "\n",
        "print('\\nPrimera letra en mayúscula:\\n', s1.capitalize())\n",
        "print('\\nPrimera letra de cada palabra en mayúscula:\\n', s1.title())\n",
        "\n",
        "print('\\nIntercambiar entre mayúsculas y minúsculas:\\n', s1.swapcase())"
      ],
      "execution_count": 57,
      "outputs": [
        {
          "output_type": "stream",
          "text": [
            "Minúsculas:\n",
            " el motivo de mi reclamo es la demora en la entrega del producto que compré online, pésimo servicio.\n",
            "\n",
            "Mayúsculas:\n",
            " EL MOTIVO DE MI RECLAMO ES LA DEMORA EN LA ENTREGA DEL PRODUCTO QUE COMPRÉ ONLINE, PÉSIMO SERVICIO.\n",
            "\n",
            "Primera letra en mayúscula:\n",
            " El motivo de mi reclamo es la demora en la entrega del producto que compré online, pésimo servicio.\n",
            "\n",
            "Primera letra de cada palabra en mayúscula:\n",
            " El Motivo De Mi Reclamo Es La Demora En La Entrega Del Producto Que Compré Online, Pésimo Servicio.\n",
            "\n",
            "Intercambiar entre mayúsculas y minúsculas:\n",
            " EL MOTIVO DE MI reclamo ES LA DEMORA EN LA ENTREGA DEL PRODUCTO QUE COMPRÉ online, PÉSIMO SERVICIO.\n"
          ],
          "name": "stdout"
        }
      ]
    },
    {
      "cell_type": "code",
      "metadata": {
        "id": "inigsqXXfF04"
      },
      "source": [
        "#Otras funciones\n",
        "s1 = '2020'\n",
        "s2 = 'python'\n",
        "s3 = 'Python'\n",
        "s4 = 'PythonDMC'\n",
        "s5 = 'Python-DMC'\n",
        "\n",
        "#s1.isnumeric(),  s2.isnumeric(),  s3.isnumeric(),  s4.isnumeric(),  s5.isnumeric()\n",
        "#s1.isalpha(),    s2.isalpha(),    s3.isalpha(),    s4.isalpha(),    s5.isalpha()\n",
        "#s1.islower(),    s2.islower(),    s3.islower(),    s4.islower(),    s5.islower()\n",
        "#s1.isalnum(),    s2.isalnum(),    s3.isalnum(),    s4.isalnum(),    s5.isalnum()"
      ],
      "execution_count": 59,
      "outputs": []
    },
    {
      "cell_type": "code",
      "metadata": {
        "colab": {
          "base_uri": "https://localhost:8080/"
        },
        "id": "jofLHELKfvih",
        "outputId": "c71b1558-f767-46fe-a911-3af6fd2774e8"
      },
      "source": [
        "#Reemplazar, buscar y dividir.\n",
        "\n",
        "s = 'Python es un lenguaje de tipado dinamico.'\n",
        "\n",
        "lista_palabras = s.split()\n",
        "print(lista_palabras)"
      ],
      "execution_count": 60,
      "outputs": [
        {
          "output_type": "stream",
          "text": [
            "['Python', 'es', 'un', 'lenguaje', 'de', 'tipado', 'dinamico.']\n"
          ],
          "name": "stdout"
        }
      ]
    },
    {
      "cell_type": "code",
      "metadata": {
        "colab": {
          "base_uri": "https://localhost:8080/"
        },
        "id": "A0UUkqJafvph",
        "outputId": "ab8edccd-3191-45bf-a002-58a4a3c47666"
      },
      "source": [
        "##unción Zip\n",
        "paises = [\"China\", \"India\", \"Estados Unidos\", \"Indonesia\"]\n",
        "poblaciones = [1391, 1364, 327, 264]\n",
        "list(zip(paises, poblaciones))"
      ],
      "execution_count": 62,
      "outputs": [
        {
          "output_type": "execute_result",
          "data": {
            "text/plain": [
              "[('China', 1391), ('India', 1364), ('Estados Unidos', 327), ('Indonesia', 264)]"
            ]
          },
          "metadata": {
            "tags": []
          },
          "execution_count": 62
        }
      ]
    },
    {
      "cell_type": "code",
      "metadata": {
        "colab": {
          "base_uri": "https://localhost:8080/"
        },
        "id": "WH2IjyUrgLDk",
        "outputId": "2cd182b4-dc3c-4447-cf6d-ae8016b15f94"
      },
      "source": [
        "s = s.replace('.', '')\n",
        "\n",
        "lista_palabras = s.split()\n",
        "print(lista_palabras)"
      ],
      "execution_count": 63,
      "outputs": [
        {
          "output_type": "stream",
          "text": [
            "['Python', 'es', 'un', 'lenguaje', 'de', 'tipado', 'dinamico']\n"
          ],
          "name": "stdout"
        }
      ]
    },
    {
      "cell_type": "code",
      "metadata": {
        "colab": {
          "base_uri": "https://localhost:8080/"
        },
        "id": "OxrC7Cz4gLI1",
        "outputId": "7d2f985a-9327-4058-a8cb-756be90f192b"
      },
      "source": [
        "ss = 'de'\n",
        "\n",
        "print('Dado el substring:', ss)\n",
        "print('Índice de inicio del substring:', s.find(ss))\n",
        "print('Cantidad de ocurrencias del substring:', s.count(ss))"
      ],
      "execution_count": 64,
      "outputs": [
        {
          "output_type": "stream",
          "text": [
            "Dado el substring: de\n",
            "Índice de inicio del substring: 22\n",
            "Cantidad de ocurrencias del substring: 1\n"
          ],
          "name": "stdout"
        }
      ]
    },
    {
      "cell_type": "markdown",
      "metadata": {
        "id": "fypez9_nhk9i"
      },
      "source": [
        "## OPERADORES NUMÉRICOS"
      ]
    },
    {
      "cell_type": "code",
      "metadata": {
        "colab": {
          "base_uri": "https://localhost:8080/"
        },
        "id": "7S2gVc5-g2Uz",
        "outputId": "53ae56ec-0751-4e68-d8e7-493e3242f806"
      },
      "source": [
        "#SUMA\n",
        "suma = 3 + 5.6\n",
        "print(suma)\n",
        "type(suma)"
      ],
      "execution_count": 65,
      "outputs": [
        {
          "output_type": "stream",
          "text": [
            "8.6\n"
          ],
          "name": "stdout"
        },
        {
          "output_type": "execute_result",
          "data": {
            "text/plain": [
              "float"
            ]
          },
          "metadata": {
            "tags": []
          },
          "execution_count": 65
        }
      ]
    },
    {
      "cell_type": "code",
      "metadata": {
        "colab": {
          "base_uri": "https://localhost:8080/"
        },
        "id": "bQn5vC9GgLMq",
        "outputId": "83350f5e-0e93-45fb-caf1-69ed4daad7ea"
      },
      "source": [
        "#RESTA\n",
        "resta = 4 - 1\n",
        "print(resta)"
      ],
      "execution_count": 66,
      "outputs": [
        {
          "output_type": "stream",
          "text": [
            "3\n"
          ],
          "name": "stdout"
        }
      ]
    },
    {
      "cell_type": "code",
      "metadata": {
        "colab": {
          "base_uri": "https://localhost:8080/"
        },
        "id": "1EzVj2bUgLLV",
        "outputId": "d25e8f67-d12c-4cc2-98b4-e2de5e49fdc1"
      },
      "source": [
        "#MULTIPLICACIÓN\n",
        "multiplicación = 3 * 6 \n",
        "print(multiplicación)"
      ],
      "execution_count": 67,
      "outputs": [
        {
          "output_type": "stream",
          "text": [
            "18\n"
          ],
          "name": "stdout"
        }
      ]
    },
    {
      "cell_type": "code",
      "metadata": {
        "colab": {
          "base_uri": "https://localhost:8080/"
        },
        "id": "sigMJhZygLG1",
        "outputId": "8ccf45d7-d104-4b2f-efc5-c4b53e74e991"
      },
      "source": [
        "#POTENCIA\n",
        "potencia = 4 ** 2\n",
        "print(potencia)"
      ],
      "execution_count": 68,
      "outputs": [
        {
          "output_type": "stream",
          "text": [
            "16\n"
          ],
          "name": "stdout"
        }
      ]
    },
    {
      "cell_type": "code",
      "metadata": {
        "colab": {
          "base_uri": "https://localhost:8080/"
        },
        "id": "LlRxc5_-fvvQ",
        "outputId": "40e2be4d-c5de-4b0e-c8a4-639957bec7af"
      },
      "source": [
        "#DIVISION COCIENTE\n",
        "división_cociente = 15 / 2 \n",
        "print(división_cociente)"
      ],
      "execution_count": 69,
      "outputs": [
        {
          "output_type": "stream",
          "text": [
            "7.5\n"
          ],
          "name": "stdout"
        }
      ]
    },
    {
      "cell_type": "code",
      "metadata": {
        "colab": {
          "base_uri": "https://localhost:8080/"
        },
        "id": "qhQBKdW6YluV",
        "outputId": "373c4d28-c0dd-4b5d-9300-12063187f001"
      },
      "source": [
        "#DIVISION PARTE ENTERA\n",
        "división = 15 // 2 \n",
        "print(división)"
      ],
      "execution_count": 70,
      "outputs": [
        {
          "output_type": "stream",
          "text": [
            "7\n"
          ],
          "name": "stdout"
        }
      ]
    },
    {
      "cell_type": "code",
      "metadata": {
        "colab": {
          "base_uri": "https://localhost:8080/"
        },
        "id": "obQUIGtkh24o",
        "outputId": "f38ed3ad-4d56-4565-d284-8901f0cb831f"
      },
      "source": [
        "#RESTO\n",
        "resto = 7 % 2\n",
        "print(resto)"
      ],
      "execution_count": 71,
      "outputs": [
        {
          "output_type": "stream",
          "text": [
            "1\n"
          ],
          "name": "stdout"
        }
      ]
    },
    {
      "cell_type": "code",
      "metadata": {
        "colab": {
          "base_uri": "https://localhost:8080/"
        },
        "id": "TPU9UQLhh29S",
        "outputId": "ce598b0d-0a5c-4d7c-def7-e47d3d9495bb"
      },
      "source": [
        "def sumar():\n",
        "    print(5 + 10)\n",
        "\n",
        "sumar()"
      ],
      "execution_count": 72,
      "outputs": [
        {
          "output_type": "stream",
          "text": [
            "15\n"
          ],
          "name": "stdout"
        }
      ]
    },
    {
      "cell_type": "code",
      "metadata": {
        "colab": {
          "base_uri": "https://localhost:8080/"
        },
        "id": "0hGoRElUh27n",
        "outputId": "6f1adf77-70b6-4665-daf4-55501d42e36a"
      },
      "source": [
        "def sumar(number1, number2):\n",
        "    print(number1 + number2)\n",
        "\n",
        "sumar(10, 15) # 25"
      ],
      "execution_count": 73,
      "outputs": [
        {
          "output_type": "stream",
          "text": [
            "25\n"
          ],
          "name": "stdout"
        }
      ]
    },
    {
      "cell_type": "code",
      "metadata": {
        "colab": {
          "base_uri": "https://localhost:8080/"
        },
        "id": "Wba1P3TSYlyV",
        "outputId": "f6089773-1a45-44bf-b462-44439f5843a7"
      },
      "source": [
        "def sumar(number1, number2=20):\n",
        "     print(number1 + number2)\n",
        "     \n",
        "sumar(10, 15) # 25\n",
        "sumar(10)"
      ],
      "execution_count": 74,
      "outputs": [
        {
          "output_type": "stream",
          "text": [
            "25\n",
            "30\n"
          ],
          "name": "stdout"
        }
      ]
    },
    {
      "cell_type": "code",
      "metadata": {
        "colab": {
          "base_uri": "https://localhost:8080/"
        },
        "id": "RpDrNALvYlwf",
        "outputId": "09a8db95-e661-4898-f525-975cf694e315"
      },
      "source": [
        "def sumar(numbers):\n",
        "    result = 0\n",
        "    for number in numbers:\n",
        "        result += number\n",
        "    print(result)\n",
        "\n",
        "sumar([4,5])"
      ],
      "execution_count": 76,
      "outputs": [
        {
          "output_type": "stream",
          "text": [
            "9\n"
          ],
          "name": "stdout"
        }
      ]
    },
    {
      "cell_type": "code",
      "metadata": {
        "colab": {
          "base_uri": "https://localhost:8080/"
        },
        "id": "11AglyqzkTD4",
        "outputId": "0b9a7030-0d0f-4fad-bcfc-768ff60cc6db"
      },
      "source": [
        "##Funcion Calculadora\n",
        "\n",
        "\n",
        "def calcu (number1, number2, operacion):\n",
        "    if operacion == 'Suma' :\n",
        "      result = number1 + number2\n",
        "      print (result)\n",
        "    elif  operacion == 'Resta':\n",
        "      result = number1 - number2\n",
        "      print (result)\n",
        "    elif  operacion == 'Multiplicacion':\n",
        "      result = number1 * number2\n",
        "      print (result)\n",
        "    else:\n",
        "      result=0\n",
        "      print(result)\n",
        "\n",
        "calcu(2,3,'Multiplicacion')"
      ],
      "execution_count": 89,
      "outputs": [
        {
          "output_type": "stream",
          "text": [
            "6\n"
          ],
          "name": "stdout"
        }
      ]
    },
    {
      "cell_type": "code",
      "metadata": {
        "id": "K5r_dybrkTV0"
      },
      "source": [
        ""
      ],
      "execution_count": null,
      "outputs": []
    }
  ]
}