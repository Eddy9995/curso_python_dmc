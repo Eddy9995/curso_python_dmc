{
  "nbformat": 4,
  "nbformat_minor": 0,
  "metadata": {
    "colab": {
      "name": "Sesion3-Python.ipynb",
      "provenance": [],
      "authorship_tag": "ABX9TyOjLpoBb1DtyIRTMUP55QRY",
      "include_colab_link": true
    },
    "kernelspec": {
      "name": "python3",
      "display_name": "Python 3"
    }
  },
  "cells": [
    {
      "cell_type": "markdown",
      "metadata": {
        "id": "view-in-github",
        "colab_type": "text"
      },
      "source": [
        "<a href=\"https://colab.research.google.com/github/EddyAlarconR/curso_python_dmc/blob/main/Sesion3_Python.ipynb\" target=\"_parent\"><img src=\"https://colab.research.google.com/assets/colab-badge.svg\" alt=\"Open In Colab\"/></a>"
      ]
    },
    {
      "cell_type": "code",
      "metadata": {
        "id": "EVbqHoq8KFx1",
        "outputId": "93c3a4c0-85c6-469d-a8c9-2c95d41467d1",
        "colab": {
          "base_uri": "https://localhost:8080/"
        }
      },
      "source": [
        "Estudiante=[\"Manuel Ponte\",23,\"False\"]\n",
        "print(Estudiante)"
      ],
      "execution_count": 5,
      "outputs": [
        {
          "output_type": "stream",
          "text": [
            "['Manuel Ponte', 23, 'False']\n"
          ],
          "name": "stdout"
        }
      ]
    },
    {
      "cell_type": "code",
      "metadata": {
        "id": "SWTum0ymMkoM",
        "outputId": "9e810c4b-a726-4ca8-d083-f38b65c1bba1",
        "colab": {
          "base_uri": "https://localhost:8080/"
        }
      },
      "source": [
        "Estudiante[0]='Omar Escobedo'\n",
        "Estudiante"
      ],
      "execution_count": 6,
      "outputs": [
        {
          "output_type": "execute_result",
          "data": {
            "text/plain": [
              "['Omar Escobedo', 23, 'False']"
            ]
          },
          "metadata": {
            "tags": []
          },
          "execution_count": 6
        }
      ]
    },
    {
      "cell_type": "markdown",
      "metadata": {
        "id": "x4FOjl8lS_tC"
      },
      "source": [
        "## TUPLA"
      ]
    },
    {
      "cell_type": "code",
      "metadata": {
        "id": "zxSCkRUdNH0G",
        "outputId": "709de5de-9437-4ac7-e07e-1bb61888d27e",
        "colab": {
          "base_uri": "https://localhost:8080/"
        }
      },
      "source": [
        "## TUPLA\n",
        "Estudiantetupla='Karolayne Pacherres',23,'True'\n",
        "Estudiantetupla"
      ],
      "execution_count": 10,
      "outputs": [
        {
          "output_type": "execute_result",
          "data": {
            "text/plain": [
              "('Karolayne Pacherres', 23, 'True')"
            ]
          },
          "metadata": {
            "tags": []
          },
          "execution_count": 10
        }
      ]
    },
    {
      "cell_type": "code",
      "metadata": {
        "id": "sbdPTsMnOeXT",
        "outputId": "b2675a16-05a7-42c6-d46c-3efbae74576a",
        "colab": {
          "base_uri": "https://localhost:8080/",
          "height": 35
        }
      },
      "source": [
        "Estudiantetupla [0]"
      ],
      "execution_count": 11,
      "outputs": [
        {
          "output_type": "execute_result",
          "data": {
            "application/vnd.google.colaboratory.intrinsic+json": {
              "type": "string"
            },
            "text/plain": [
              "'Karolayne Pacherres'"
            ]
          },
          "metadata": {
            "tags": []
          },
          "execution_count": 11
        }
      ]
    },
    {
      "cell_type": "code",
      "metadata": {
        "id": "QgpuP2iOOoZ0",
        "outputId": "6ed023e0-2cbb-4b60-98ba-d78a7d4546e7",
        "colab": {
          "base_uri": "https://localhost:8080/",
          "height": 162
        }
      },
      "source": [
        "Estudiantetupla [0] = 'Karoline Pacherres'"
      ],
      "execution_count": 12,
      "outputs": [
        {
          "output_type": "error",
          "ename": "TypeError",
          "evalue": "ignored",
          "traceback": [
            "\u001b[0;31m---------------------------------------------------------------------------\u001b[0m",
            "\u001b[0;31mTypeError\u001b[0m                                 Traceback (most recent call last)",
            "\u001b[0;32m<ipython-input-12-53e81bd49537>\u001b[0m in \u001b[0;36m<module>\u001b[0;34m()\u001b[0m\n\u001b[0;32m----> 1\u001b[0;31m \u001b[0mEstudiantetupla\u001b[0m \u001b[0;34m[\u001b[0m\u001b[0;36m0\u001b[0m\u001b[0;34m]\u001b[0m \u001b[0;34m=\u001b[0m \u001b[0;34m'Karoline Pacherres'\u001b[0m\u001b[0;34m\u001b[0m\u001b[0;34m\u001b[0m\u001b[0m\n\u001b[0m",
            "\u001b[0;31mTypeError\u001b[0m: 'tuple' object does not support item assignment"
          ]
        }
      ]
    },
    {
      "cell_type": "markdown",
      "metadata": {
        "id": "qNSzDQmHStu_"
      },
      "source": [
        "## DICCIONARIO"
      ]
    },
    {
      "cell_type": "code",
      "metadata": {
        "id": "smMv0HFWSn3K",
        "outputId": "d230c422-241b-4bcb-bb78-3947edc170f5",
        "colab": {
          "base_uri": "https://localhost:8080/"
        }
      },
      "source": [
        "# creando diccionarios:\n",
        "EstudianteDict={'Nombres':\"Manuel Ponte\",\n",
        "               'edad':23,\n",
        "               'femenino':False}\n",
        "#en los diccionarios se deben indicar los nombres de los atributos\n",
        "# seeing it:\n",
        "EstudianteDict"
      ],
      "execution_count": 13,
      "outputs": [
        {
          "output_type": "execute_result",
          "data": {
            "text/plain": [
              "{'Nombres': 'Manuel Ponte', 'edad': 23, 'femenino': False}"
            ]
          },
          "metadata": {
            "tags": []
          },
          "execution_count": 13
        }
      ]
    },
    {
      "cell_type": "code",
      "metadata": {
        "id": "dm3ftoDwTtTX",
        "outputId": "196dc548-088c-487e-d63d-58589542acf1",
        "colab": {
          "base_uri": "https://localhost:8080/",
          "height": 162
        }
      },
      "source": [
        "EstudianteDict[0]"
      ],
      "execution_count": 14,
      "outputs": [
        {
          "output_type": "error",
          "ename": "KeyError",
          "evalue": "ignored",
          "traceback": [
            "\u001b[0;31m---------------------------------------------------------------------------\u001b[0m",
            "\u001b[0;31mKeyError\u001b[0m                                  Traceback (most recent call last)",
            "\u001b[0;32m<ipython-input-14-9f38b07bc1c2>\u001b[0m in \u001b[0;36m<module>\u001b[0;34m()\u001b[0m\n\u001b[0;32m----> 1\u001b[0;31m \u001b[0mEstudianteDict\u001b[0m\u001b[0;34m[\u001b[0m\u001b[0;36m0\u001b[0m\u001b[0;34m]\u001b[0m\u001b[0;34m\u001b[0m\u001b[0;34m\u001b[0m\u001b[0m\n\u001b[0m",
            "\u001b[0;31mKeyError\u001b[0m: 0"
          ]
        }
      ]
    },
    {
      "cell_type": "code",
      "metadata": {
        "id": "qQFmi3bqTxFC",
        "outputId": "49bc5dde-c976-4c74-c22c-5c90d2c52dfa",
        "colab": {
          "base_uri": "https://localhost:8080/"
        }
      },
      "source": [
        "EstudianteDict['edad']"
      ],
      "execution_count": 15,
      "outputs": [
        {
          "output_type": "execute_result",
          "data": {
            "text/plain": [
              "23"
            ]
          },
          "metadata": {
            "tags": []
          },
          "execution_count": 15
        }
      ]
    },
    {
      "cell_type": "code",
      "metadata": {
        "id": "mdCQaQVCT1tl",
        "outputId": "44dc5f60-9961-4804-fd38-9d68aa7d44fb",
        "colab": {
          "base_uri": "https://localhost:8080/"
        }
      },
      "source": [
        "type(EstudianteDict)"
      ],
      "execution_count": 16,
      "outputs": [
        {
          "output_type": "execute_result",
          "data": {
            "text/plain": [
              "dict"
            ]
          },
          "metadata": {
            "tags": []
          },
          "execution_count": 16
        }
      ]
    },
    {
      "cell_type": "markdown",
      "metadata": {
        "id": "zKCxc4D9VVnM"
      },
      "source": [
        "## DATAFRAMES"
      ]
    },
    {
      "cell_type": "code",
      "metadata": {
        "id": "p-2aj1DvVL5A",
        "outputId": "946d278f-d354-4d15-9899-c2e41f674698",
        "colab": {
          "base_uri": "https://localhost:8080/"
        }
      },
      "source": [
        "import pandas as pd\n",
        "\n",
        "# estas son columnas:\n",
        "#listas de columnas\n",
        "\n",
        "nombres=[\"Manuel\", \"Karen\", \"Karolayne\", \"Omar\"]\n",
        "edad=[23,29,23,26]\n",
        "pais=[\"Ecuador\", \"Perú\", \"Brasil\", \"Argentina\"]\n",
        "educacion=[\"Bach\", \"Lic\", \"Bach\", \"PhD\"]\n",
        "\n",
        "print(nombres[2])\n",
        "\n",
        "data={'nombres':nombres, 'edad':edad, 'pais':pais, 'educacion':educacion}"
      ],
      "execution_count": 20,
      "outputs": [
        {
          "output_type": "stream",
          "text": [
            "Karolayne\n"
          ],
          "name": "stdout"
        }
      ]
    },
    {
      "cell_type": "code",
      "metadata": {
        "id": "1RNbyz0bVfwZ",
        "outputId": "4a0084fd-b1c1-4b9d-dfc1-996caa9da9ae",
        "colab": {
          "base_uri": "https://localhost:8080/"
        }
      },
      "source": [
        "print(data)"
      ],
      "execution_count": 21,
      "outputs": [
        {
          "output_type": "stream",
          "text": [
            "{'nombres': ['Manuel', 'Karen', 'Karolayne', 'Omar'], 'edad': [23, 29, 23, 26], 'pais': ['Ecuador', 'Perú', 'Brasil', 'Argentina'], 'educacion': ['Bach', 'Lic', 'Bach', 'PhD']}\n"
          ],
          "name": "stdout"
        }
      ]
    },
    {
      "cell_type": "code",
      "metadata": {
        "id": "K9nN03VtWH8y",
        "outputId": "f5a8308e-dadc-4cbc-a198-5d70b2d13ffe",
        "colab": {
          "base_uri": "https://localhost:8080/",
          "height": 166
        }
      },
      "source": [
        "estudiantes=pd.DataFrame(data)\n",
        "# check it:\n",
        "estudiantes"
      ],
      "execution_count": 22,
      "outputs": [
        {
          "output_type": "execute_result",
          "data": {
            "text/html": [
              "<div>\n",
              "<style scoped>\n",
              "    .dataframe tbody tr th:only-of-type {\n",
              "        vertical-align: middle;\n",
              "    }\n",
              "\n",
              "    .dataframe tbody tr th {\n",
              "        vertical-align: top;\n",
              "    }\n",
              "\n",
              "    .dataframe thead th {\n",
              "        text-align: right;\n",
              "    }\n",
              "</style>\n",
              "<table border=\"1\" class=\"dataframe\">\n",
              "  <thead>\n",
              "    <tr style=\"text-align: right;\">\n",
              "      <th></th>\n",
              "      <th>nombres</th>\n",
              "      <th>edad</th>\n",
              "      <th>pais</th>\n",
              "      <th>educacion</th>\n",
              "    </tr>\n",
              "  </thead>\n",
              "  <tbody>\n",
              "    <tr>\n",
              "      <th>0</th>\n",
              "      <td>Manuel</td>\n",
              "      <td>23</td>\n",
              "      <td>Ecuador</td>\n",
              "      <td>Bach</td>\n",
              "    </tr>\n",
              "    <tr>\n",
              "      <th>1</th>\n",
              "      <td>Karen</td>\n",
              "      <td>29</td>\n",
              "      <td>Perú</td>\n",
              "      <td>Lic</td>\n",
              "    </tr>\n",
              "    <tr>\n",
              "      <th>2</th>\n",
              "      <td>Karolayne</td>\n",
              "      <td>23</td>\n",
              "      <td>Brasil</td>\n",
              "      <td>Bach</td>\n",
              "    </tr>\n",
              "    <tr>\n",
              "      <th>3</th>\n",
              "      <td>Omar</td>\n",
              "      <td>26</td>\n",
              "      <td>Argentina</td>\n",
              "      <td>PhD</td>\n",
              "    </tr>\n",
              "  </tbody>\n",
              "</table>\n",
              "</div>"
            ],
            "text/plain": [
              "     nombres  edad       pais educacion\n",
              "0     Manuel    23    Ecuador      Bach\n",
              "1      Karen    29       Perú       Lic\n",
              "2  Karolayne    23     Brasil      Bach\n",
              "3       Omar    26  Argentina       PhD"
            ]
          },
          "metadata": {
            "tags": []
          },
          "execution_count": 22
        }
      ]
    },
    {
      "cell_type": "markdown",
      "metadata": {
        "id": "QVUVlSdeasIF"
      },
      "source": [
        "## CONDICIONALES"
      ]
    },
    {
      "cell_type": "markdown",
      "metadata": {
        "id": "F1KQmskDebrm"
      },
      "source": [
        "## IF, ELSE, ELIF"
      ]
    },
    {
      "cell_type": "code",
      "metadata": {
        "id": "IWLsBM50arXT",
        "outputId": "606a8571-ff5b-4470-d5dd-5a84a72e9838",
        "colab": {
          "base_uri": "https://localhost:8080/"
        }
      },
      "source": [
        "x = 4\n",
        "y = 0\n",
        "if x == 4:\n",
        "    y = 5\n",
        "else:\n",
        "    y = 2\n",
        "\n",
        "print(y)"
      ],
      "execution_count": 24,
      "outputs": [
        {
          "output_type": "stream",
          "text": [
            "5\n"
          ],
          "name": "stdout"
        }
      ]
    },
    {
      "cell_type": "code",
      "metadata": {
        "id": "e0ZL7Vvzbld_",
        "outputId": "f6a3a82d-b09e-40be-81a1-2ede2a0b1964",
        "colab": {
          "base_uri": "https://localhost:8080/"
        }
      },
      "source": [
        "x = 4\n",
        "xy = 2\n",
        "if x== 4 and xy ==2:\n",
        "    y = 1\n",
        "elif x == 5:\n",
        "    y = 2\n",
        "elif x == 6:\n",
        "    y = 3\n",
        "else:\n",
        "    y = 5\n",
        "\n",
        "print(y)"
      ],
      "execution_count": 29,
      "outputs": [
        {
          "output_type": "stream",
          "text": [
            "1\n"
          ],
          "name": "stdout"
        }
      ]
    },
    {
      "cell_type": "code",
      "metadata": {
        "id": "Fp9p_Z9bc-A_",
        "outputId": "babb423c-a5f6-4ade-9905-15c3cb4dc8d2",
        "colab": {
          "base_uri": "https://localhost:8080/"
        }
      },
      "source": [
        "a = 10\n",
        "b = 9\n",
        "if a > b: print(\"a es mayor que b\") #para negación se usa !="
      ],
      "execution_count": 28,
      "outputs": [
        {
          "output_type": "stream",
          "text": [
            "a es mayor que b\n"
          ],
          "name": "stdout"
        }
      ]
    },
    {
      "cell_type": "markdown",
      "metadata": {
        "id": "cLteKDS4egxo"
      },
      "source": [
        "## FOR, WHILE"
      ]
    },
    {
      "cell_type": "code",
      "metadata": {
        "id": "KrKh9QdrdCvB",
        "outputId": "8d0de252-2768-4544-f119-ce728a8fc1bc",
        "colab": {
          "base_uri": "https://localhost:8080/"
        }
      },
      "source": [
        "for x in range (1,3):\n",
        "    print (x)"
      ],
      "execution_count": 30,
      "outputs": [
        {
          "output_type": "stream",
          "text": [
            "1\n",
            "2\n"
          ],
          "name": "stdout"
        }
      ]
    },
    {
      "cell_type": "code",
      "metadata": {
        "id": "BDcJCEFUePBG",
        "outputId": "cd08d5e0-ea4d-41e3-fc27-1fae2d8585fb",
        "colab": {
          "base_uri": "https://localhost:8080/",
          "height": 136
        }
      },
      "source": [
        "lista = [\"uno \", \"dos \", \"tres\"]\n",
        "cadena = \"\"\n",
        "for posicion in lista:\n",
        "    print(posicion)\n",
        "    cadena += posicion\n",
        "    print(cadena)\n",
        "cadena"
      ],
      "execution_count": 33,
      "outputs": [
        {
          "output_type": "stream",
          "text": [
            "uno \n",
            "uno \n",
            "dos \n",
            "uno dos \n",
            "tres\n",
            "uno dos tres\n"
          ],
          "name": "stdout"
        },
        {
          "output_type": "execute_result",
          "data": {
            "application/vnd.google.colaboratory.intrinsic+json": {
              "type": "string"
            },
            "text/plain": [
              "'uno dos tres'"
            ]
          },
          "metadata": {
            "tags": []
          },
          "execution_count": 33
        }
      ]
    },
    {
      "cell_type": "code",
      "metadata": {
        "id": "Q99ILacieSUT",
        "outputId": "17eacd74-9325-442d-8a8e-6bc3af3d508b",
        "colab": {
          "base_uri": "https://localhost:8080/"
        }
      },
      "source": [
        "x = 0\n",
        "y = 3\n",
        "while x < y:\n",
        "    print(x)\n",
        "    x += 1"
      ],
      "execution_count": 34,
      "outputs": [
        {
          "output_type": "stream",
          "text": [
            "0\n",
            "1\n",
            "2\n"
          ],
          "name": "stdout"
        }
      ]
    },
    {
      "cell_type": "code",
      "metadata": {
        "id": "TW73JKPLeUk9"
      },
      "source": [
        "x = 0\n",
        "y = 3\n",
        "while x < y:\n",
        "    print (x)\n",
        "    x+=1\n",
        "    if x == 2:\n",
        "        break\n",
        "    else:\n",
        "        print (\"x es igual a 2\")"
      ],
      "execution_count": null,
      "outputs": []
    },
    {
      "cell_type": "code",
      "metadata": {
        "id": "d2t8wJb6eVNe"
      },
      "source": [
        "for i in range (1, 10):\n",
        "    if i % 2 != 0:\n",
        "        continue\n",
        "    print (i)"
      ],
      "execution_count": null,
      "outputs": []
    }
  ]
}