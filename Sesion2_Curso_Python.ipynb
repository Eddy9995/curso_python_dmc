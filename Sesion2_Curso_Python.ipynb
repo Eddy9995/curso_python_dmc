{
  "nbformat": 4,
  "nbformat_minor": 0,
  "metadata": {
    "colab": {
      "name": "Sesion2-Curso_Python.ipynb",
      "provenance": [],
      "collapsed_sections": [],
      "authorship_tag": "ABX9TyP3pqt//jW3f82WqWg6k2Yh",
      "include_colab_link": true
    },
    "kernelspec": {
      "name": "python3",
      "display_name": "Python 3"
    }
  },
  "cells": [
    {
      "cell_type": "markdown",
      "metadata": {
        "id": "view-in-github",
        "colab_type": "text"
      },
      "source": [
        "<a href=\"https://colab.research.google.com/github/EddyAlarconR/curso_python_dmc/blob/main/Sesion2_Curso_Python.ipynb\" target=\"_parent\"><img src=\"https://colab.research.google.com/assets/colab-badge.svg\" alt=\"Open In Colab\"/></a>"
      ]
    },
    {
      "cell_type": "code",
      "metadata": {
        "id": "fuDFlHjDwmBu",
        "outputId": "3ddafa6d-bd3c-4c4d-84c0-4f17fe213aed",
        "colab": {
          "base_uri": "https://localhost:8080/"
        }
      },
      "source": [
        "#variable\n",
        "x = 1\n",
        "print(x)"
      ],
      "execution_count": 3,
      "outputs": [
        {
          "output_type": "stream",
          "text": [
            "1\n"
          ],
          "name": "stdout"
        }
      ]
    },
    {
      "cell_type": "code",
      "metadata": {
        "id": "s8QnnUpl8geW",
        "outputId": "a797f89b-ee74-4a2c-d9f7-d58fc34ec21d",
        "colab": {
          "base_uri": "https://localhost:8080/"
        }
      },
      "source": [
        "x=1\n",
        "print(type(x))\n",
        "x='Valor'\n",
        "print(type(x))"
      ],
      "execution_count": 21,
      "outputs": [
        {
          "output_type": "stream",
          "text": [
            "<class 'int'>\n",
            "<class 'str'>\n"
          ],
          "name": "stdout"
        }
      ]
    },
    {
      "cell_type": "code",
      "metadata": {
        "id": "bPc_zBjr310l",
        "outputId": "3935d1b5-88cb-491a-d645-9e485ea129c1",
        "colab": {
          "base_uri": "https://localhost:8080/"
        }
      },
      "source": [
        "x = 1\n",
        "print(type(x))"
      ],
      "execution_count": 4,
      "outputs": [
        {
          "output_type": "stream",
          "text": [
            "<class 'int'>\n"
          ],
          "name": "stdout"
        }
      ]
    },
    {
      "cell_type": "code",
      "metadata": {
        "id": "WwhcmywU3_Rc",
        "outputId": "f2e65394-6493-47b7-cc55-90c95e218246",
        "colab": {
          "base_uri": "https://localhost:8080/"
        }
      },
      "source": [
        "nombres = 'Eddy Josué'\n",
        "apellidos = 'Alarcón Rojas'\n",
        "edad = 25\n",
        "print(\"Tu nombre es:\", nombres,\"Tu apellido es:\",apellidos, \"Tu edad es:\",edad)"
      ],
      "execution_count": 6,
      "outputs": [
        {
          "output_type": "stream",
          "text": [
            "Tu nombre es: Eddy Josué Tu apellido es: Alarcón Rojas Tu edad es: 25\n"
          ],
          "name": "stdout"
        }
      ]
    },
    {
      "cell_type": "code",
      "metadata": {
        "id": "asnggJuN48ff",
        "outputId": "07c61ea6-8b8e-441a-a127-197511676d47",
        "colab": {
          "base_uri": "https://localhost:8080/"
        }
      },
      "source": [
        "b1 = True\n",
        "b2 = True\n",
        "b3 = False\n",
        "type (b1)"
      ],
      "execution_count": 7,
      "outputs": [
        {
          "output_type": "execute_result",
          "data": {
            "text/plain": [
              "bool"
            ]
          },
          "metadata": {
            "tags": []
          },
          "execution_count": 7
        }
      ]
    },
    {
      "cell_type": "code",
      "metadata": {
        "id": "SLcSk8WG5xZ2",
        "outputId": "a55c2e7a-c2c6-4af8-eb72-ac40d0b35037",
        "colab": {
          "base_uri": "https://localhost:8080/"
        }
      },
      "source": [
        "num_entero = 8\n",
        "print(type(num_entero))"
      ],
      "execution_count": 9,
      "outputs": [
        {
          "output_type": "stream",
          "text": [
            "<class 'int'>\n"
          ],
          "name": "stdout"
        }
      ]
    },
    {
      "cell_type": "code",
      "metadata": {
        "id": "a7WOFhh45_Cg",
        "outputId": "fff3d2d7-a02e-4cb8-c5e0-2c16e8497022",
        "colab": {
          "base_uri": "https://localhost:8080/"
        }
      },
      "source": [
        "#en el contexto de los números enteros\n",
        "num_negativo = -100\n",
        "print(type(num_negativo))"
      ],
      "execution_count": 10,
      "outputs": [
        {
          "output_type": "stream",
          "text": [
            "<class 'int'>\n"
          ],
          "name": "stdout"
        }
      ]
    },
    {
      "cell_type": "code",
      "metadata": {
        "id": "wvdzvM4l6M-V",
        "outputId": "625e501d-ae9b-4e0e-e81c-8c0e185ea879",
        "colab": {
          "base_uri": "https://localhost:8080/"
        }
      },
      "source": [
        "num_real = 4.5\n",
        "print(type(num_real))"
      ],
      "execution_count": 11,
      "outputs": [
        {
          "output_type": "stream",
          "text": [
            "<class 'float'>\n"
          ],
          "name": "stdout"
        }
      ]
    },
    {
      "cell_type": "code",
      "metadata": {
        "id": "IfYoj_-r6g1Q",
        "outputId": "2ba8da2a-8564-44ab-e353-b9c4d9577e27",
        "colab": {
          "base_uri": "https://localhost:8080/"
        }
      },
      "source": [
        "#otra manera de expresar un número real es:\n",
        "num_real = 0.5e-7\n",
        "print(type(num_real))"
      ],
      "execution_count": 12,
      "outputs": [
        {
          "output_type": "stream",
          "text": [
            "<class 'float'>\n"
          ],
          "name": "stdout"
        }
      ]
    },
    {
      "cell_type": "code",
      "metadata": {
        "id": "JSxL3hxH6oBk",
        "outputId": "b1e379b9-e53f-480f-b9e8-fdcb011059ca",
        "colab": {
          "base_uri": "https://localhost:8080/"
        }
      },
      "source": [
        "#números formados por una parte real y otra imaginaria\n",
        "num_complejo = 3.2 + 7j\n",
        "print(type(num_complejo))"
      ],
      "execution_count": 13,
      "outputs": [
        {
          "output_type": "stream",
          "text": [
            "<class 'complex'>\n"
          ],
          "name": "stdout"
        }
      ]
    },
    {
      "cell_type": "code",
      "metadata": {
        "id": "8HQi5pI361mj",
        "outputId": "d419ba5f-e79d-476f-9c1d-99d7325bd033",
        "colab": {
          "base_uri": "https://localhost:8080/"
        }
      },
      "source": [
        "numero = 1/2\n",
        "print(type(numero))"
      ],
      "execution_count": 14,
      "outputs": [
        {
          "output_type": "stream",
          "text": [
            "<class 'float'>\n"
          ],
          "name": "stdout"
        }
      ]
    },
    {
      "cell_type": "code",
      "metadata": {
        "id": "pA-BYva_7JW4",
        "outputId": "07428e3c-6f9b-4216-c094-683f2cebc69e",
        "colab": {
          "base_uri": "https://localhost:8080/"
        }
      },
      "source": [
        "#el número 7 en binario se representa de la siguiente forma:\n",
        "num_binario = 0b111\n",
        "print(type(num_binario))\n",
        "print(num_binario)"
      ],
      "execution_count": 16,
      "outputs": [
        {
          "output_type": "stream",
          "text": [
            "<class 'int'>\n",
            "7\n"
          ],
          "name": "stdout"
        }
      ]
    },
    {
      "cell_type": "code",
      "metadata": {
        "id": "1fZecX4R7jyH",
        "outputId": "0ad5e8ac-c60a-40d5-ce8e-be341f3c5a91",
        "colab": {
          "base_uri": "https://localhost:8080/"
        }
      },
      "source": [
        "#el número 8 en octak se representa de la siguiente forma:\n",
        "num_octal = 0o10\n",
        "print(type(num_octal))\n",
        "print(num_octal)"
      ],
      "execution_count": 17,
      "outputs": [
        {
          "output_type": "stream",
          "text": [
            "<class 'int'>\n",
            "8\n"
          ],
          "name": "stdout"
        }
      ]
    },
    {
      "cell_type": "code",
      "metadata": {
        "id": "KzYb6PRA7rAT",
        "outputId": "1e4d8d0b-56ac-49c5-f717-33c4e830d3a8",
        "colab": {
          "base_uri": "https://localhost:8080/"
        }
      },
      "source": [
        "#el número 255 en el sistema hexadecimal se representa de la siguiente forma:\n",
        "num_hex = 0xff\n",
        "print(type(num_hex))\n",
        "print(num_hex)"
      ],
      "execution_count": 18,
      "outputs": [
        {
          "output_type": "stream",
          "text": [
            "<class 'int'>\n",
            "255\n"
          ],
          "name": "stdout"
        }
      ]
    },
    {
      "cell_type": "code",
      "metadata": {
        "id": "k1P1QQS876Zp",
        "outputId": "07b65b1c-27db-4f84-eda4-60536282ab70",
        "colab": {
          "base_uri": "https://localhost:8080/"
        }
      },
      "source": [
        "cadena = \"esto es una cadena de texto\"\n",
        "print(type(cadena))\n",
        "print(cadena)"
      ],
      "execution_count": 20,
      "outputs": [
        {
          "output_type": "stream",
          "text": [
            "<class 'str'>\n",
            "esto es una cadena de texto\n"
          ],
          "name": "stdout"
        }
      ]
    },
    {
      "cell_type": "code",
      "metadata": {
        "id": "Zgxtz2I6907Q",
        "outputId": "9e486916-26ff-4db8-9e20-83ba9830056f",
        "colab": {
          "base_uri": "https://localhost:8080/"
        }
      },
      "source": [
        "lat = bytearray(\"España\", \"latin1\")\n",
        "print(lat)"
      ],
      "execution_count": 22,
      "outputs": [
        {
          "output_type": "stream",
          "text": [
            "bytearray(b'Espa\\xf1a')\n"
          ],
          "name": "stdout"
        }
      ]
    },
    {
      "cell_type": "code",
      "metadata": {
        "id": "JA1PJ1Pk9_0S",
        "outputId": "a4e61ca0-3430-409d-a127-5217b3f09739",
        "colab": {
          "base_uri": "https://localhost:8080/"
        }
      },
      "source": [
        "str = \"España\"\n",
        "array1 = bytearray(str, 'utf-8') \n",
        "print(array1)"
      ],
      "execution_count": 23,
      "outputs": [
        {
          "output_type": "stream",
          "text": [
            "bytearray(b'Espa\\xc3\\xb1a')\n"
          ],
          "name": "stdout"
        }
      ]
    },
    {
      "cell_type": "code",
      "metadata": {
        "id": "VIas8YhM-aD8",
        "outputId": "f3b7c3b0-5d98-4143-ce47-04c17d7ecce2",
        "colab": {
          "base_uri": "https://localhost:8080/"
        }
      },
      "source": [
        "cad = \"es de tipo str\"\n",
        "print(type(cad))\n",
        "cad.encode()"
      ],
      "execution_count": 25,
      "outputs": [
        {
          "output_type": "stream",
          "text": [
            "<class 'str'>\n"
          ],
          "name": "stdout"
        },
        {
          "output_type": "execute_result",
          "data": {
            "text/plain": [
              "b'es de tipo str'"
            ]
          },
          "metadata": {
            "tags": []
          },
          "execution_count": 25
        }
      ]
    },
    {
      "cell_type": "code",
      "metadata": {
        "id": "zoM3cCf-AURm",
        "outputId": "d926dbe7-3eb9-4d9e-9ff5-6a54ae128346",
        "colab": {
          "base_uri": "https://localhost:8080/"
        }
      },
      "source": [
        "Estudiante = [] #Declarando una lista vacía\n",
        "Estudiante = [\"Manuel Ponte\",23,\"False\"]\n",
        "Estudiante"
      ],
      "execution_count": 28,
      "outputs": [
        {
          "output_type": "execute_result",
          "data": {
            "text/plain": [
              "['Manuel Ponte', 23, 'False']"
            ]
          },
          "metadata": {
            "tags": []
          },
          "execution_count": 28
        }
      ]
    },
    {
      "cell_type": "code",
      "metadata": {
        "id": "-A_i8icBBeC2",
        "outputId": "ead5ee52-7889-4ece-d11c-645f69505a32",
        "colab": {
          "base_uri": "https://localhost:8080/",
          "height": 35
        }
      },
      "source": [
        "Estudiante[0] # primer elemento comienza con indice '0'"
      ],
      "execution_count": 29,
      "outputs": [
        {
          "output_type": "execute_result",
          "data": {
            "application/vnd.google.colaboratory.intrinsic+json": {
              "type": "string"
            },
            "text/plain": [
              "'Manuel Ponte'"
            ]
          },
          "metadata": {
            "tags": []
          },
          "execution_count": 29
        }
      ]
    },
    {
      "cell_type": "code",
      "metadata": {
        "id": "1HTy_BM9BpTF",
        "outputId": "64d1a560-7056-45bb-8ee6-7542c04b0ea7",
        "colab": {
          "base_uri": "https://localhost:8080/"
        }
      },
      "source": [
        "Estudiante[:2] # todo antes de índice 2"
      ],
      "execution_count": 30,
      "outputs": [
        {
          "output_type": "execute_result",
          "data": {
            "text/plain": [
              "['Manuel Ponte', 23]"
            ]
          },
          "metadata": {
            "tags": []
          },
          "execution_count": 30
        }
      ]
    },
    {
      "cell_type": "code",
      "metadata": {
        "id": "gY_XxudQB516",
        "outputId": "54e443e6-c806-4adc-b21c-1f5a4ef061cd",
        "colab": {
          "base_uri": "https://localhost:8080/",
          "height": 35
        }
      },
      "source": [
        "Estudiante[-1] # ultimo elementos"
      ],
      "execution_count": 31,
      "outputs": [
        {
          "output_type": "execute_result",
          "data": {
            "application/vnd.google.colaboratory.intrinsic+json": {
              "type": "string"
            },
            "text/plain": [
              "'False'"
            ]
          },
          "metadata": {
            "tags": []
          },
          "execution_count": 31
        }
      ]
    }
  ]
}